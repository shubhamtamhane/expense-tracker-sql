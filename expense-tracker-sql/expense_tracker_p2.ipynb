{
 "cells": [
  {
   "cell_type": "code",
   "execution_count": 1,
   "id": "ae81567d",
   "metadata": {},
   "outputs": [],
   "source": [
    "# Importing Libraries\n",
    "\n",
    "import sqlite3 as sql3\n",
    "import pandas as pd\n",
    "import numpy as np\n",
    "import matplotlib.pyplot as plt\n"
   ]
  },
  {
   "cell_type": "code",
   "execution_count": 80,
   "id": "3ffbc5b4",
   "metadata": {},
   "outputs": [],
   "source": [
    "conn = sql3.connect('expense_tracker.db')"
   ]
  },
  {
   "cell_type": "code",
   "execution_count": 6,
   "id": "8d681d0f",
   "metadata": {},
   "outputs": [],
   "source": [
    "cursor = conn.cursor()"
   ]
  },
  {
   "cell_type": "code",
   "execution_count": 7,
   "id": "ffdb2f9c",
   "metadata": {},
   "outputs": [
    {
     "data": {
      "text/html": [
       "<div>\n",
       "<style scoped>\n",
       "    .dataframe tbody tr th:only-of-type {\n",
       "        vertical-align: middle;\n",
       "    }\n",
       "\n",
       "    .dataframe tbody tr th {\n",
       "        vertical-align: top;\n",
       "    }\n",
       "\n",
       "    .dataframe thead th {\n",
       "        text-align: right;\n",
       "    }\n",
       "</style>\n",
       "<table border=\"1\" class=\"dataframe\">\n",
       "  <thead>\n",
       "    <tr style=\"text-align: right;\">\n",
       "      <th></th>\n",
       "      <th>vendor</th>\n",
       "      <th>date</th>\n",
       "      <th>description</th>\n",
       "      <th>meansofpayment</th>\n",
       "      <th>city</th>\n",
       "      <th>category</th>\n",
       "      <th>USD</th>\n",
       "      <th>currency</th>\n",
       "      <th>credit/debit</th>\n",
       "      <th>country</th>\n",
       "      <th>lcy</th>\n",
       "      <th>eur</th>\n",
       "      <th>tags</th>\n",
       "      <th>recurrence</th>\n",
       "      <th>Unnamed: 14</th>\n",
       "      <th>Unnamed: 15</th>\n",
       "    </tr>\n",
       "  </thead>\n",
       "  <tbody>\n",
       "    <tr>\n",
       "      <th>0</th>\n",
       "      <td>waw-airport</td>\n",
       "      <td>9/19/18</td>\n",
       "      <td>food</td>\n",
       "      <td>cash</td>\n",
       "      <td>chicago</td>\n",
       "      <td>groceries</td>\n",
       "      <td>60.96</td>\n",
       "      <td>USD</td>\n",
       "      <td>debit</td>\n",
       "      <td>USA</td>\n",
       "      <td>8.16</td>\n",
       "      <td>2.92</td>\n",
       "      <td>salad</td>\n",
       "      <td>no</td>\n",
       "      <td>NaN</td>\n",
       "      <td>NaN</td>\n",
       "    </tr>\n",
       "    <tr>\n",
       "      <th>1</th>\n",
       "      <td>dorm</td>\n",
       "      <td>9/20/18</td>\n",
       "      <td>accomodation</td>\n",
       "      <td>cash</td>\n",
       "      <td>fremont</td>\n",
       "      <td>accomodation</td>\n",
       "      <td>420.00</td>\n",
       "      <td>USD</td>\n",
       "      <td>debit</td>\n",
       "      <td>USA</td>\n",
       "      <td>239.40</td>\n",
       "      <td>54.60</td>\n",
       "      <td>september</td>\n",
       "      <td>no</td>\n",
       "      <td>NaN</td>\n",
       "      <td>NaN</td>\n",
       "    </tr>\n",
       "    <tr>\n",
       "      <th>2</th>\n",
       "      <td>dorm</td>\n",
       "      <td>9/21/18</td>\n",
       "      <td>accomodation</td>\n",
       "      <td>cash</td>\n",
       "      <td>fremont</td>\n",
       "      <td>accomodation</td>\n",
       "      <td>660.00</td>\n",
       "      <td>USD</td>\n",
       "      <td>debit</td>\n",
       "      <td>USA</td>\n",
       "      <td>376.20</td>\n",
       "      <td>85.80</td>\n",
       "      <td>deposit</td>\n",
       "      <td>yes</td>\n",
       "      <td>NaN</td>\n",
       "      <td>NaN</td>\n",
       "    </tr>\n",
       "    <tr>\n",
       "      <th>3</th>\n",
       "      <td>bistro</td>\n",
       "      <td>9/22/18</td>\n",
       "      <td>food</td>\n",
       "      <td>cash</td>\n",
       "      <td>fremont</td>\n",
       "      <td>groceries</td>\n",
       "      <td>13.99</td>\n",
       "      <td>USD</td>\n",
       "      <td>debit</td>\n",
       "      <td>USA</td>\n",
       "      <td>7.97</td>\n",
       "      <td>1.82</td>\n",
       "      <td>salad</td>\n",
       "      <td>yes</td>\n",
       "      <td>NaN</td>\n",
       "      <td>groceries</td>\n",
       "    </tr>\n",
       "    <tr>\n",
       "      <th>4</th>\n",
       "      <td>biedronka</td>\n",
       "      <td>9/23/18</td>\n",
       "      <td>food</td>\n",
       "      <td>cash</td>\n",
       "      <td>fremont</td>\n",
       "      <td>groceries</td>\n",
       "      <td>14.89</td>\n",
       "      <td>USD</td>\n",
       "      <td>debit</td>\n",
       "      <td>USA</td>\n",
       "      <td>8.49</td>\n",
       "      <td>1.94</td>\n",
       "      <td>NaN</td>\n",
       "      <td>yes</td>\n",
       "      <td>NaN</td>\n",
       "      <td>accomodation</td>\n",
       "    </tr>\n",
       "    <tr>\n",
       "      <th>...</th>\n",
       "      <td>...</td>\n",
       "      <td>...</td>\n",
       "      <td>...</td>\n",
       "      <td>...</td>\n",
       "      <td>...</td>\n",
       "      <td>...</td>\n",
       "      <td>...</td>\n",
       "      <td>...</td>\n",
       "      <td>...</td>\n",
       "      <td>...</td>\n",
       "      <td>...</td>\n",
       "      <td>...</td>\n",
       "      <td>...</td>\n",
       "      <td>...</td>\n",
       "      <td>...</td>\n",
       "      <td>...</td>\n",
       "    </tr>\n",
       "    <tr>\n",
       "      <th>166</th>\n",
       "      <td>ina</td>\n",
       "      <td>3/4/19</td>\n",
       "      <td>gas</td>\n",
       "      <td>cash</td>\n",
       "      <td>Nashville</td>\n",
       "      <td>travel</td>\n",
       "      <td>100.00</td>\n",
       "      <td>NaN</td>\n",
       "      <td>debit</td>\n",
       "      <td>NaN</td>\n",
       "      <td>NaN</td>\n",
       "      <td>NaN</td>\n",
       "      <td>NaN</td>\n",
       "      <td>NaN</td>\n",
       "      <td>NaN</td>\n",
       "      <td>NaN</td>\n",
       "    </tr>\n",
       "    <tr>\n",
       "      <th>167</th>\n",
       "      <td>ice-skating</td>\n",
       "      <td>3/5/19</td>\n",
       "      <td>ice-skating</td>\n",
       "      <td>cash</td>\n",
       "      <td>Nashville</td>\n",
       "      <td>activities</td>\n",
       "      <td>120.00</td>\n",
       "      <td>NaN</td>\n",
       "      <td>debit</td>\n",
       "      <td>NaN</td>\n",
       "      <td>NaN</td>\n",
       "      <td>NaN</td>\n",
       "      <td>NaN</td>\n",
       "      <td>NaN</td>\n",
       "      <td>NaN</td>\n",
       "      <td>NaN</td>\n",
       "    </tr>\n",
       "    <tr>\n",
       "      <th>168</th>\n",
       "      <td>ina</td>\n",
       "      <td>3/6/19</td>\n",
       "      <td>gas</td>\n",
       "      <td>cash</td>\n",
       "      <td>Nashville</td>\n",
       "      <td>travel</td>\n",
       "      <td>200.00</td>\n",
       "      <td>NaN</td>\n",
       "      <td>debit</td>\n",
       "      <td>NaN</td>\n",
       "      <td>NaN</td>\n",
       "      <td>NaN</td>\n",
       "      <td>NaN</td>\n",
       "      <td>NaN</td>\n",
       "      <td>NaN</td>\n",
       "      <td>NaN</td>\n",
       "    </tr>\n",
       "    <tr>\n",
       "      <th>169</th>\n",
       "      <td>company</td>\n",
       "      <td>3/6/19</td>\n",
       "      <td>salary</td>\n",
       "      <td>cash</td>\n",
       "      <td>chicago</td>\n",
       "      <td>salary</td>\n",
       "      <td>1000.00</td>\n",
       "      <td>NaN</td>\n",
       "      <td>credit</td>\n",
       "      <td>NaN</td>\n",
       "      <td>NaN</td>\n",
       "      <td>NaN</td>\n",
       "      <td>NaN</td>\n",
       "      <td>NaN</td>\n",
       "      <td>NaN</td>\n",
       "      <td>NaN</td>\n",
       "    </tr>\n",
       "    <tr>\n",
       "      <th>170</th>\n",
       "      <td>coffee-shop</td>\n",
       "      <td>3/7/19</td>\n",
       "      <td>coffee</td>\n",
       "      <td>cash</td>\n",
       "      <td>Nashville</td>\n",
       "      <td>activities</td>\n",
       "      <td>12.00</td>\n",
       "      <td>NaN</td>\n",
       "      <td>debit</td>\n",
       "      <td>NaN</td>\n",
       "      <td>NaN</td>\n",
       "      <td>NaN</td>\n",
       "      <td>NaN</td>\n",
       "      <td>NaN</td>\n",
       "      <td>NaN</td>\n",
       "      <td>NaN</td>\n",
       "    </tr>\n",
       "  </tbody>\n",
       "</table>\n",
       "<p>171 rows × 16 columns</p>\n",
       "</div>"
      ],
      "text/plain": [
       "          vendor     date   description meansofpayment       city  \\\n",
       "0    waw-airport  9/19/18          food           cash    chicago   \n",
       "1           dorm  9/20/18  accomodation           cash    fremont   \n",
       "2           dorm  9/21/18  accomodation           cash    fremont   \n",
       "3         bistro  9/22/18          food           cash    fremont   \n",
       "4      biedronka  9/23/18          food           cash    fremont   \n",
       "..           ...      ...           ...            ...        ...   \n",
       "166          ina   3/4/19           gas           cash  Nashville   \n",
       "167  ice-skating   3/5/19   ice-skating           cash  Nashville   \n",
       "168          ina   3/6/19           gas           cash  Nashville   \n",
       "169      company   3/6/19        salary           cash    chicago   \n",
       "170  coffee-shop   3/7/19        coffee           cash  Nashville   \n",
       "\n",
       "         category      USD currency credit/debit country     lcy    eur  \\\n",
       "0       groceries    60.96      USD        debit     USA    8.16   2.92   \n",
       "1    accomodation   420.00      USD        debit     USA  239.40  54.60   \n",
       "2    accomodation   660.00      USD        debit     USA  376.20  85.80   \n",
       "3       groceries    13.99      USD        debit     USA    7.97   1.82   \n",
       "4       groceries    14.89      USD        debit     USA    8.49   1.94   \n",
       "..            ...      ...      ...          ...     ...     ...    ...   \n",
       "166        travel   100.00      NaN        debit     NaN     NaN    NaN   \n",
       "167    activities   120.00      NaN        debit     NaN     NaN    NaN   \n",
       "168        travel   200.00      NaN        debit     NaN     NaN    NaN   \n",
       "169        salary  1000.00      NaN       credit     NaN     NaN    NaN   \n",
       "170    activities    12.00      NaN        debit     NaN     NaN    NaN   \n",
       "\n",
       "          tags recurrence  Unnamed: 14   Unnamed: 15  \n",
       "0        salad         no          NaN           NaN  \n",
       "1    september         no          NaN           NaN  \n",
       "2      deposit        yes          NaN           NaN  \n",
       "3        salad        yes          NaN     groceries  \n",
       "4          NaN        yes          NaN  accomodation  \n",
       "..         ...        ...          ...           ...  \n",
       "166        NaN        NaN          NaN           NaN  \n",
       "167        NaN        NaN          NaN           NaN  \n",
       "168        NaN        NaN          NaN           NaN  \n",
       "169        NaN        NaN          NaN           NaN  \n",
       "170        NaN        NaN          NaN           NaN  \n",
       "\n",
       "[171 rows x 16 columns]"
      ]
     },
     "execution_count": 7,
     "metadata": {},
     "output_type": "execute_result"
    }
   ],
   "source": [
    "file = 'expenses1.csv'\n",
    "df = pd.read_csv(file)\n",
    "df"
   ]
  },
  {
   "cell_type": "code",
   "execution_count": 8,
   "id": "82861865",
   "metadata": {},
   "outputs": [
    {
     "name": "stdout",
     "output_type": "stream",
     "text": [
      "<class 'pandas.core.frame.DataFrame'>\n",
      "RangeIndex: 171 entries, 0 to 170\n",
      "Data columns (total 16 columns):\n",
      " #   Column          Non-Null Count  Dtype  \n",
      "---  ------          --------------  -----  \n",
      " 0   vendor          171 non-null    object \n",
      " 1   date            171 non-null    object \n",
      " 2   description     171 non-null    object \n",
      " 3   meansofpayment  171 non-null    object \n",
      " 4   city            171 non-null    object \n",
      " 5   category        171 non-null    object \n",
      " 6   USD             162 non-null    float64\n",
      " 7   currency        76 non-null     object \n",
      " 8   credit/debit    171 non-null    object \n",
      " 9   country         81 non-null     object \n",
      " 10  lcy             85 non-null     float64\n",
      " 11  eur             85 non-null     float64\n",
      " 12  tags            63 non-null     object \n",
      " 13  recurrence      76 non-null     object \n",
      " 14  Unnamed: 14     0 non-null      float64\n",
      " 15  Unnamed: 15     13 non-null     object \n",
      "dtypes: float64(4), object(12)\n",
      "memory usage: 21.5+ KB\n"
     ]
    }
   ],
   "source": [
    "df.info()"
   ]
  },
  {
   "cell_type": "code",
   "execution_count": 9,
   "id": "d2ceff40",
   "metadata": {},
   "outputs": [
    {
     "data": {
      "text/plain": [
       "vendor              0\n",
       "date                0\n",
       "description         0\n",
       "meansofpayment      0\n",
       "city                0\n",
       "category            0\n",
       "USD                 9\n",
       "currency           95\n",
       "credit/debit        0\n",
       "country            90\n",
       "lcy                86\n",
       "eur                86\n",
       "tags              108\n",
       "recurrence         95\n",
       "Unnamed: 14       171\n",
       "Unnamed: 15       158\n",
       "dtype: int64"
      ]
     },
     "execution_count": 9,
     "metadata": {},
     "output_type": "execute_result"
    }
   ],
   "source": [
    "df.isnull().sum()"
   ]
  },
  {
   "cell_type": "code",
   "execution_count": 5,
   "id": "a185c998",
   "metadata": {},
   "outputs": [],
   "source": [
    "# ignoring the null values\n",
    "attributes = ['hrk','vendor', 'date', 'description','meansofpayment','city', 'category', 'currency','country']\n",
    "new_data = df[attributes]"
   ]
  },
  {
   "cell_type": "code",
   "execution_count": 8,
   "id": "5f44fb17",
   "metadata": {},
   "outputs": [
    {
     "name": "stderr",
     "output_type": "stream",
     "text": [
      "/var/folders/y0/5l57ym2573553zlkd56cz9w80000gn/T/ipykernel_36046/4007409240.py:1: SettingWithCopyWarning: \n",
      "A value is trying to be set on a copy of a slice from a DataFrame\n",
      "\n",
      "See the caveats in the documentation: https://pandas.pydata.org/pandas-docs/stable/user_guide/indexing.html#returning-a-view-versus-a-copy\n",
      "  new_data.rename(columns={'hrk': 'cost'}, inplace=True)\n"
     ]
    },
    {
     "data": {
      "text/html": [
       "<div>\n",
       "<style scoped>\n",
       "    .dataframe tbody tr th:only-of-type {\n",
       "        vertical-align: middle;\n",
       "    }\n",
       "\n",
       "    .dataframe tbody tr th {\n",
       "        vertical-align: top;\n",
       "    }\n",
       "\n",
       "    .dataframe thead th {\n",
       "        text-align: right;\n",
       "    }\n",
       "</style>\n",
       "<table border=\"1\" class=\"dataframe\">\n",
       "  <thead>\n",
       "    <tr style=\"text-align: right;\">\n",
       "      <th></th>\n",
       "      <th>cost</th>\n",
       "      <th>vendor</th>\n",
       "      <th>date</th>\n",
       "      <th>description</th>\n",
       "      <th>meansofpayment</th>\n",
       "      <th>city</th>\n",
       "      <th>category</th>\n",
       "      <th>currency</th>\n",
       "      <th>country</th>\n",
       "    </tr>\n",
       "  </thead>\n",
       "  <tbody>\n",
       "    <tr>\n",
       "      <th>0</th>\n",
       "      <td>60.96</td>\n",
       "      <td>waw-airport</td>\n",
       "      <td>19.09.2018.</td>\n",
       "      <td>food</td>\n",
       "      <td>cash</td>\n",
       "      <td>warszaw</td>\n",
       "      <td>groceries</td>\n",
       "      <td>PLN</td>\n",
       "      <td>poland</td>\n",
       "    </tr>\n",
       "    <tr>\n",
       "      <th>1</th>\n",
       "      <td>420.00</td>\n",
       "      <td>dorm</td>\n",
       "      <td>20.09.2018.</td>\n",
       "      <td>accomodation</td>\n",
       "      <td>cash</td>\n",
       "      <td>poznan</td>\n",
       "      <td>accomodation</td>\n",
       "      <td>PLN</td>\n",
       "      <td>poland</td>\n",
       "    </tr>\n",
       "    <tr>\n",
       "      <th>2</th>\n",
       "      <td>660.00</td>\n",
       "      <td>dorm</td>\n",
       "      <td>20.09.2018.</td>\n",
       "      <td>accomodation</td>\n",
       "      <td>cash</td>\n",
       "      <td>poznan</td>\n",
       "      <td>accomodation</td>\n",
       "      <td>PLN</td>\n",
       "      <td>poland</td>\n",
       "    </tr>\n",
       "    <tr>\n",
       "      <th>3</th>\n",
       "      <td>13.99</td>\n",
       "      <td>bistro</td>\n",
       "      <td>21.09.2018.</td>\n",
       "      <td>food</td>\n",
       "      <td>cash</td>\n",
       "      <td>poznan</td>\n",
       "      <td>groceries</td>\n",
       "      <td>PLN</td>\n",
       "      <td>poland</td>\n",
       "    </tr>\n",
       "    <tr>\n",
       "      <th>4</th>\n",
       "      <td>14.89</td>\n",
       "      <td>biedronka</td>\n",
       "      <td>21.09.2018.</td>\n",
       "      <td>food</td>\n",
       "      <td>cash</td>\n",
       "      <td>poznan</td>\n",
       "      <td>groceries</td>\n",
       "      <td>PLN</td>\n",
       "      <td>poland</td>\n",
       "    </tr>\n",
       "    <tr>\n",
       "      <th>...</th>\n",
       "      <td>...</td>\n",
       "      <td>...</td>\n",
       "      <td>...</td>\n",
       "      <td>...</td>\n",
       "      <td>...</td>\n",
       "      <td>...</td>\n",
       "      <td>...</td>\n",
       "      <td>...</td>\n",
       "      <td>...</td>\n",
       "    </tr>\n",
       "    <tr>\n",
       "      <th>165</th>\n",
       "      <td>10.00</td>\n",
       "      <td>konzum</td>\n",
       "      <td>24.12.</td>\n",
       "      <td>food</td>\n",
       "      <td>credit-card</td>\n",
       "      <td>zagreb</td>\n",
       "      <td>groceries</td>\n",
       "      <td>NaN</td>\n",
       "      <td>NaN</td>\n",
       "    </tr>\n",
       "    <tr>\n",
       "      <th>166</th>\n",
       "      <td>100.00</td>\n",
       "      <td>ina</td>\n",
       "      <td>27.12.</td>\n",
       "      <td>gas</td>\n",
       "      <td>cash</td>\n",
       "      <td>zagreb</td>\n",
       "      <td>car</td>\n",
       "      <td>NaN</td>\n",
       "      <td>NaN</td>\n",
       "    </tr>\n",
       "    <tr>\n",
       "      <th>167</th>\n",
       "      <td>120.00</td>\n",
       "      <td>ice-skating</td>\n",
       "      <td>27.12.</td>\n",
       "      <td>ice-skating</td>\n",
       "      <td>cash</td>\n",
       "      <td>zagreb</td>\n",
       "      <td>activities</td>\n",
       "      <td>NaN</td>\n",
       "      <td>NaN</td>\n",
       "    </tr>\n",
       "    <tr>\n",
       "      <th>168</th>\n",
       "      <td>200.00</td>\n",
       "      <td>ina</td>\n",
       "      <td>27.12.</td>\n",
       "      <td>gas</td>\n",
       "      <td>cash</td>\n",
       "      <td>zagreb</td>\n",
       "      <td>car</td>\n",
       "      <td>NaN</td>\n",
       "      <td>NaN</td>\n",
       "    </tr>\n",
       "    <tr>\n",
       "      <th>169</th>\n",
       "      <td>12.00</td>\n",
       "      <td>coffee-shop</td>\n",
       "      <td>06.01.2019.</td>\n",
       "      <td>coffee</td>\n",
       "      <td>cash</td>\n",
       "      <td>zagreb</td>\n",
       "      <td>activities</td>\n",
       "      <td>NaN</td>\n",
       "      <td>NaN</td>\n",
       "    </tr>\n",
       "  </tbody>\n",
       "</table>\n",
       "<p>170 rows × 9 columns</p>\n",
       "</div>"
      ],
      "text/plain": [
       "       cost       vendor         date   description meansofpayment     city  \\\n",
       "0     60.96  waw-airport  19.09.2018.          food           cash  warszaw   \n",
       "1    420.00         dorm  20.09.2018.  accomodation           cash   poznan   \n",
       "2    660.00         dorm  20.09.2018.  accomodation           cash   poznan   \n",
       "3     13.99       bistro  21.09.2018.          food           cash   poznan   \n",
       "4     14.89    biedronka  21.09.2018.          food           cash   poznan   \n",
       "..      ...          ...          ...           ...            ...      ...   \n",
       "165   10.00       konzum       24.12.          food    credit-card   zagreb   \n",
       "166  100.00          ina       27.12.           gas           cash   zagreb   \n",
       "167  120.00  ice-skating       27.12.   ice-skating           cash   zagreb   \n",
       "168  200.00          ina       27.12.           gas           cash   zagreb   \n",
       "169   12.00  coffee-shop  06.01.2019.        coffee           cash   zagreb   \n",
       "\n",
       "         category currency country  \n",
       "0       groceries      PLN  poland  \n",
       "1    accomodation      PLN  poland  \n",
       "2    accomodation      PLN  poland  \n",
       "3       groceries      PLN  poland  \n",
       "4       groceries      PLN  poland  \n",
       "..            ...      ...     ...  \n",
       "165     groceries      NaN     NaN  \n",
       "166           car      NaN     NaN  \n",
       "167    activities      NaN     NaN  \n",
       "168           car      NaN     NaN  \n",
       "169    activities      NaN     NaN  \n",
       "\n",
       "[170 rows x 9 columns]"
      ]
     },
     "execution_count": 8,
     "metadata": {},
     "output_type": "execute_result"
    }
   ],
   "source": [
    "new_data.rename(columns={'hrk': 'cost'}, inplace=True)\n",
    "new_data"
   ]
  },
  {
   "cell_type": "code",
   "execution_count": 81,
   "id": "b8455832",
   "metadata": {},
   "outputs": [
    {
     "ename": "OperationalError",
     "evalue": "table userdata_lite already exists",
     "output_type": "error",
     "traceback": [
      "\u001b[0;31m---------------------------------------------------------------------------\u001b[0m",
      "\u001b[0;31mOperationalError\u001b[0m                          Traceback (most recent call last)",
      "Input \u001b[0;32mIn [81]\u001b[0m, in \u001b[0;36m<cell line: 10>\u001b[0;34m()\u001b[0m\n\u001b[1;32m      1\u001b[0m \u001b[38;5;66;03m# Creating the table \u001b[39;00m\n\u001b[1;32m      2\u001b[0m sql_qry \u001b[38;5;241m=\u001b[39m \u001b[38;5;124m\"\"\"\u001b[39m\n\u001b[1;32m      3\u001b[0m \u001b[38;5;124mCREATE TABLE userdata_lite(\u001b[39m\n\u001b[1;32m      4\u001b[0m \u001b[38;5;124m  UID INTEGER PRIMARY KEY AUTOINCREMENT,\u001b[39m\n\u001b[0;32m   (...)\u001b[0m\n\u001b[1;32m      7\u001b[0m \u001b[38;5;124m);\u001b[39m\n\u001b[1;32m      8\u001b[0m \u001b[38;5;124m\"\"\"\u001b[39m\n\u001b[0;32m---> 10\u001b[0m \u001b[43mcursor\u001b[49m\u001b[38;5;241;43m.\u001b[39;49m\u001b[43mexecute\u001b[49m\u001b[43m(\u001b[49m\u001b[43msql_qry\u001b[49m\u001b[43m)\u001b[49m\n",
      "\u001b[0;31mOperationalError\u001b[0m: table userdata_lite already exists"
     ]
    }
   ],
   "source": [
    "# Creating the table \n",
    "sql_qry = \"\"\"\n",
    "CREATE TABLE userdata_lite(\n",
    "  UID INTEGER PRIMARY KEY AUTOINCREMENT,\n",
    "  email VARCHAR(45) NOT NULL,\n",
    "  password VARCHAR(45) NOT NULL\n",
    ");\n",
    "\"\"\"\n",
    "\n",
    "cursor.execute(sql_qry)"
   ]
  },
  {
   "cell_type": "code",
   "execution_count": 73,
   "id": "3ffd06c2",
   "metadata": {},
   "outputs": [
    {
     "data": {
      "text/plain": [
       "<sqlite3.Cursor at 0x7f8722d07260>"
      ]
     },
     "execution_count": 73,
     "metadata": {},
     "output_type": "execute_result"
    }
   ],
   "source": [
    "query = \"\"\"\n",
    "INSERT INTO userdata(FirstName, LastName, email, state, country, password, phone) \n",
    "VALUES ('sripal', 'Nomula', 'srnomula@iu.edu', 'IN', 'US', 'password', '6692462594');\n",
    "\"\"\"\n",
    "\n",
    "cursor.execute(query)"
   ]
  },
  {
   "cell_type": "code",
   "execution_count": 12,
   "id": "4f4dc235",
   "metadata": {},
   "outputs": [
    {
     "data": {
      "text/plain": [
       "170"
      ]
     },
     "execution_count": 12,
     "metadata": {},
     "output_type": "execute_result"
    }
   ],
   "source": [
    "# Inserting the data\n",
    "\n",
    "new_data.to_sql('expense', conn, index=False, if_exists='replace')"
   ]
  },
  {
   "cell_type": "code",
   "execution_count": 76,
   "id": "9c6376f9",
   "metadata": {},
   "outputs": [],
   "source": [
    "res = cursor.execute('select * from userdata')"
   ]
  },
  {
   "cell_type": "code",
   "execution_count": 77,
   "id": "f68ba345",
   "metadata": {},
   "outputs": [
    {
     "data": {
      "text/plain": [
       "[(1,\n",
       "  'sripal',\n",
       "  'Nomula',\n",
       "  'srnomula@iu.edu',\n",
       "  'IN',\n",
       "  'US',\n",
       "  'password',\n",
       "  '6692462594'),\n",
       " (2,\n",
       "  'sripal',\n",
       "  'Nomula',\n",
       "  'srnomula@iu.edu',\n",
       "  'IN',\n",
       "  'US',\n",
       "  'password',\n",
       "  '6692462594')]"
      ]
     },
     "execution_count": 77,
     "metadata": {},
     "output_type": "execute_result"
    }
   ],
   "source": [
    "res.fetchall()"
   ]
  },
  {
   "cell_type": "code",
   "execution_count": 33,
   "id": "b94e639f",
   "metadata": {},
   "outputs": [],
   "source": [
    "qry1 = \"\"\"\n",
    "CREATE TABLE Categories (\n",
    "    CategoryID INTEGER PRIMARY KEY AUTOINCREMENT,\n",
    "    Name VARCHAR(255) NOT NULL)\n",
    "\n",
    "\"\"\"\n",
    "\n",
    "qry2 = \"\"\"\n",
    "INSERT INTO Categories (Name) \n",
    "VALUES ('food'), ('accomodation'), ('activities'), ('travel'), ('groceries'), ('dining'), ('education'), ('online'), ('salary');\n",
    "\"\"\"\n",
    "\n",
    "qry3 = \"\"\"\n",
    "ALTER TABLE Categories \n",
    "RENAME COLUMN Name TO category;\n",
    "\"\"\""
   ]
  },
  {
   "cell_type": "code",
   "execution_count": 27,
   "id": "07211161",
   "metadata": {},
   "outputs": [
    {
     "data": {
      "text/plain": [
       "<sqlite3.Cursor at 0x7f8722d07260>"
      ]
     },
     "execution_count": 27,
     "metadata": {},
     "output_type": "execute_result"
    }
   ],
   "source": [
    "cursor.execute(qry2)"
   ]
  },
  {
   "cell_type": "code",
   "execution_count": 34,
   "id": "54ac9750",
   "metadata": {},
   "outputs": [
    {
     "data": {
      "text/plain": [
       "<sqlite3.Cursor at 0x7f8722d07260>"
      ]
     },
     "execution_count": 34,
     "metadata": {},
     "output_type": "execute_result"
    }
   ],
   "source": [
    "cursor.execute(qry3)"
   ]
  },
  {
   "cell_type": "code",
   "execution_count": 39,
   "id": "be99c532",
   "metadata": {},
   "outputs": [],
   "source": [
    "q1 = \"\"\"CREATE TABLE PaymentMethods (\n",
    "    PaymentMethodID INTEGER PRIMARY KEY AUTOINCREMENT,\n",
    "    Method VARCHAR(255) NOT NULL);\"\"\"\n",
    "\n",
    "q2 = \"\"\"\n",
    "INSERT INTO PaymentMethods (Method) VALUES ('cash'), ('credit-traveld'), ('coupon');\n",
    "\"\"\"\n",
    "cursor.execute(q1)"
   ]
  },
  {
   "cell_type": "code",
   "execution_count": 41,
   "id": "71244b0c",
   "metadata": {},
   "outputs": [
    {
     "data": {
      "text/plain": [
       "<sqlite3.Cursor at 0x7f8722d07260>"
      ]
     },
     "execution_count": 41,
     "metadata": {},
     "output_type": "execute_result"
    }
   ],
   "source": [
    "cursor.execute(q2)"
   ]
  },
  {
   "cell_type": "code",
   "execution_count": 44,
   "id": "e6d08e8e",
   "metadata": {},
   "outputs": [],
   "source": [
    "q1 = \"\"\"\n",
    "CREATE TABLE Locations (\n",
    "    LocationID INTEGER PRIMARY KEY AUTOINCREMENT,\n",
    "    city VARCHAR(255) NOT NULL,\n",
    "    country VARCHAR(255) NOT NULL\n",
    ");\n",
    "\"\"\""
   ]
  },
  {
   "cell_type": "code",
   "execution_count": 45,
   "id": "4252546c",
   "metadata": {},
   "outputs": [
    {
     "data": {
      "text/plain": [
       "<sqlite3.Cursor at 0x7f8722d07260>"
      ]
     },
     "execution_count": 45,
     "metadata": {},
     "output_type": "execute_result"
    }
   ],
   "source": [
    "cursor.execute(q1)"
   ]
  },
  {
   "cell_type": "code",
   "execution_count": 47,
   "id": "fc5f272c",
   "metadata": {},
   "outputs": [
    {
     "data": {
      "text/plain": [
       "<sqlite3.Cursor at 0x7f8722d07260>"
      ]
     },
     "execution_count": 47,
     "metadata": {},
     "output_type": "execute_result"
    }
   ],
   "source": [
    "cursor.execute(\"\"\"\n",
    "INSERT INTO Locations (city, country) VALUES ('chicago', 'USA'), ('fremont', 'USA');\n",
    "\"\"\")"
   ]
  },
  {
   "cell_type": "code",
   "execution_count": 63,
   "id": "33abd88d",
   "metadata": {},
   "outputs": [
    {
     "data": {
      "text/plain": [
       "<sqlite3.Cursor at 0x7f8722d07260>"
      ]
     },
     "execution_count": 63,
     "metadata": {},
     "output_type": "execute_result"
    }
   ],
   "source": [
    "cursor.execute(\"\"\"\n",
    "CREATE TABLE Transactions (\n",
    "    TransactionID INTEGER PRIMARY KEY AUTOINCREMENT,\n",
    "    Date DATE NOT NULL,\n",
    "    CategoryID INT,\n",
    "    PaymentMethodID INT,\n",
    "    LocationID INT,\n",
    "    Amount DECIMAL(10, 2),\n",
    "    Details VARCHAR(255),\n",
    "    UID INT,\n",
    "    FOREIGN KEY (CategoryID) REFERENCES Categories(CategoryID),\n",
    "    FOREIGN KEY (PaymentMethodID) REFERENCES PaymentMethods(PaymentMethodID),\n",
    "    FOREIGN KEY (LocationID) REFERENCES Locations(LocationID),\n",
    "    FOREIGN KEY (UID) REFERENCES userdata(UID) );\n",
    "\"\"\")"
   ]
  },
  {
   "cell_type": "code",
   "execution_count": 59,
   "id": "aabbb4ac",
   "metadata": {},
   "outputs": [
    {
     "data": {
      "text/plain": [
       "<sqlite3.Cursor at 0x7f8722d07260>"
      ]
     },
     "execution_count": 59,
     "metadata": {},
     "output_type": "execute_result"
    }
   ],
   "source": [
    "cursor.execute(\"\"\"drop table Transactions\"\"\")"
   ]
  },
  {
   "cell_type": "code",
   "execution_count": 51,
   "id": "a82a6687",
   "metadata": {},
   "outputs": [
    {
     "data": {
      "text/plain": [
       "<sqlite3.Cursor at 0x7f8722d07260>"
      ]
     },
     "execution_count": 51,
     "metadata": {},
     "output_type": "execute_result"
    }
   ],
   "source": [
    "cursor.execute(\"\"\"\n",
    "Alter table Transactions\n",
    "ADD COLUMN UID INT;\n",
    "\"\"\")"
   ]
  },
  {
   "cell_type": "code",
   "execution_count": 56,
   "id": "46a50851",
   "metadata": {},
   "outputs": [
    {
     "data": {
      "text/plain": [
       "<sqlite3.Cursor at 0x7f8722d07260>"
      ]
     },
     "execution_count": 56,
     "metadata": {},
     "output_type": "execute_result"
    }
   ],
   "source": [
    "cursor.execute(\"PRAGMA foreign_keys = ON;\")"
   ]
  },
  {
   "cell_type": "code",
   "execution_count": 64,
   "id": "8c7d1f02",
   "metadata": {},
   "outputs": [
    {
     "data": {
      "text/plain": [
       "<sqlite3.Cursor at 0x7f8722d07260>"
      ]
     },
     "execution_count": 64,
     "metadata": {},
     "output_type": "execute_result"
    }
   ],
   "source": [
    "q = \"\"\"\n",
    "\n",
    "INSERT INTO Transactions (Date, CategoryID, PaymentMethodID, LocationID, Amount, Details, UID) VALUES\n",
    "('2018-09-19', \n",
    "(SELECT CategoryID FROM Categories WHERE category = 'food'), \n",
    "(SELECT PaymentMethodID FROM PaymentMethods WHERE Method = 'cash'), \n",
    "(SELECT LocationID FROM Locations WHERE city = 'chicago'), \n",
    "60.96, 'salad', 1);\n",
    "\n",
    "\"\"\"\n",
    "cursor.execute(q)"
   ]
  },
  {
   "cell_type": "code",
   "execution_count": 70,
   "id": "769c365d",
   "metadata": {},
   "outputs": [],
   "source": [
    "res = cursor.execute(\"select * from transactions\")"
   ]
  },
  {
   "cell_type": "code",
   "execution_count": 71,
   "id": "170c68a6",
   "metadata": {},
   "outputs": [
    {
     "data": {
      "text/plain": [
       "[(1, '2018-09-19', 1, 1, 1, 60.96, 'salad', 1),\n",
       " (2, '2018-09-20', 2, 1, 2, 420, 'september', 1),\n",
       " (3, '2018-09-21', 2, 1, 2, 660, 'deposit', 1)]"
      ]
     },
     "execution_count": 71,
     "metadata": {},
     "output_type": "execute_result"
    }
   ],
   "source": [
    "res.fetchall()"
   ]
  },
  {
   "cell_type": "code",
   "execution_count": 68,
   "id": "ae4668e4",
   "metadata": {},
   "outputs": [],
   "source": [
    "q1 = \"\"\"\n",
    "INSERT INTO Transactions (Date, CategoryID, PaymentMethodID, LocationID, Amount, Details, UID) VALUES\n",
    "('2018-09-20', \n",
    "(SELECT CategoryID FROM Categories WHERE category = 'accomodation'), \n",
    "(SELECT PaymentMethodID FROM PaymentMethods WHERE Method = 'cash'), \n",
    "(SELECT LocationID FROM Locations WHERE city = 'fremont'), \n",
    "420, 'september', 1);\n",
    "\"\"\"\n",
    "\n",
    "q2 = \"\"\"\n",
    "INSERT INTO Transactions (Date, CategoryID, PaymentMethodID, LocationID, Amount, Details, UID) VALUES\n",
    "('2018-09-21', \n",
    "(SELECT CategoryID FROM Categories WHERE category = 'accomodation'), \n",
    "(SELECT PaymentMethodID FROM PaymentMethods WHERE Method = 'cash'), \n",
    "(SELECT LocationID FROM Locations WHERE city = 'fremont'), \n",
    "660, 'deposit', 1);\n",
    "\"\"\""
   ]
  },
  {
   "cell_type": "code",
   "execution_count": 69,
   "id": "bdc6e461",
   "metadata": {},
   "outputs": [
    {
     "data": {
      "text/plain": [
       "<sqlite3.Cursor at 0x7f8722d07260>"
      ]
     },
     "execution_count": 69,
     "metadata": {},
     "output_type": "execute_result"
    }
   ],
   "source": [
    "cursor.execute(q1)\n",
    "cursor.execute(q2)"
   ]
  },
  {
   "cell_type": "code",
   "execution_count": null,
   "id": "4d863102",
   "metadata": {},
   "outputs": [],
   "source": []
  }
 ],
 "metadata": {
  "kernelspec": {
   "display_name": "Python 3 (ipykernel)",
   "language": "python",
   "name": "python3"
  },
  "language_info": {
   "codemirror_mode": {
    "name": "ipython",
    "version": 3
   },
   "file_extension": ".py",
   "mimetype": "text/x-python",
   "name": "python",
   "nbconvert_exporter": "python",
   "pygments_lexer": "ipython3",
   "version": "3.9.12"
  }
 },
 "nbformat": 4,
 "nbformat_minor": 5
}
